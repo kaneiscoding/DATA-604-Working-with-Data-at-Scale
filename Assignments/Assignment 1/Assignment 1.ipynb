{
 "cells": [
  {
   "cell_type": "markdown",
   "metadata": {},
   "source": [
    "# Assignment 1\n",
    "\n",
    "## Instructions - Read this first!\n",
    "\n",
    "This is an individual homework assignment. This means that:\n",
    "* You may discuss the problems in this assignment with other students in this course and your instructor/TA, but YOUR WORK MUST BE YOUR OWN.\n",
    "* Do not show other students code or your own work on this assignment.\n",
    "* You may consult external references, but not actively receive help from individuals not involved in this course. \n",
    "* Cite all references outside of the course you used, including conversations with other students which were helpful. (This helps us give credit where it is due!). All references must use a commonly accepted reference format, for example, APA or IEEE (or another citation style of your choice).\n",
    "\n",
    "If any of these rules seem ambiguous, please check with your professors for help interpreting them.\n",
    "\n",
    "Please complete this homework assignment within the Jupypter notebook environment. You may use Anaconda at home or https://datasciencehub.ucalgary.ca. However, all submitted code must be runnable via datasciencehub.\n",
    "\n",
    "\n",
    "## Submission instructions\n",
    "\n",
    "Your submission will be graded manually. To ensure that everything goes smoothly, please follow these instructions to prepare your notebook for submission to the D2L Dropbox for Assignment 1:\n",
    "\n",
    "* Please remove any print statments used to test your work (you can comment them out)\n",
    "* Please provide your solutions where asked; please do not alter any other parts of this notebook.\n",
    "* If you need to add cells to test your code please move them to the end of the notebook before submission- or you may included your commented out answers and tests in the cells provided.\n",
    "\n",
    "In this assignment, we will focus on familiarizing you with using Python to work with files and JSON objects."
   ]
  },
  {
   "cell_type": "markdown",
   "metadata": {},
   "source": [
    "# Part A: Warm-up questions (10 marks)\n",
    "\n",
    "**Question 1 (2 marks)**\n",
    "\n",
    "In the cell below, open the json file that has been provided to you (travel.json). Using only Python built-ins, count how many lines this file contains."
   ]
  },
  {
   "cell_type": "code",
   "execution_count": 1,
   "metadata": {},
   "outputs": [
    {
     "name": "stdout",
     "output_type": "stream",
     "text": [
      "65\n"
     ]
    }
   ],
   "source": [
    "file = open(\"travel.json\", \"r+\")\n",
    "num = sum(1 for line in file)\n",
    "print(num)\n",
    "#65 lines"
   ]
  },
  {
   "cell_type": "markdown",
   "metadata": {},
   "source": [
    "**Question 2 (1 mark)**\n",
    "\n",
    "Use a for loop and the `readlines()` method to read each line of the file and print it out."
   ]
  },
  {
   "cell_type": "code",
   "execution_count": 2,
   "metadata": {},
   "outputs": [
    {
     "name": "stdout",
     "output_type": "stream",
     "text": [
      "{\n",
      "\n",
      "\t\"Trip\": {\n",
      "\n",
      "\t\t\"Name\": \"Western Canadian Adventure\",\n",
      "\n",
      "\t\t\"Segments\": [{\n",
      "\n",
      "\t\t\t\t\"Flight\": \"Calgary to Vancouver\",\n",
      "\n",
      "\t\t\t\t\"Departure Times\": [\n",
      "\n",
      "\t\t\t\t\t\"0731\",\n",
      "\n",
      "\t\t\t\t\t\"0845\",\n",
      "\n",
      "\t\t\t\t\t\"1030\",\n",
      "\n",
      "\t\t\t\t\t\"1332\",\n",
      "\n",
      "\t\t\t\t\t\"1519\"\n",
      "\n",
      "\t\t\t\t],\n",
      "\n",
      "\t\t\t\t\"Airline\": \"CheapFlights Air\",\n",
      "\n",
      "\t\t\t\t\"Departure City\": \"Calgary\",\n",
      "\n",
      "\t\t\t\t\"Destination City\": \"Vancouver\"\n",
      "\n",
      "\t\t\t},\n",
      "\n",
      "\t\t\t{\n",
      "\n",
      "\t\t\t\t\"Hotel\": \"Coastal Western\",\n",
      "\n",
      "\t\t\t\t\"Room Type\": [\"Queen\",\n",
      "\n",
      "\t\t\t\t\t\"King\",\n",
      "\n",
      "\t\t\t\t\t\"Suite\"\n",
      "\n",
      "\t\t\t\t],\n",
      "\n",
      "\t\t\t\t\"Rating\": 4,\n",
      "\n",
      "\t\t\t\t\"City\": \"Vancouver\"\n",
      "\n",
      "\t\t\t},\n",
      "\n",
      "\t\t\t{\n",
      "\n",
      "\t\t\t\t\"Ground\": \"East Train\",\n",
      "\n",
      "\t\t\t\t\"Destination City\": \"Calgary\",\n",
      "\n",
      "\t\t\t\t\"Departure City\": \"Vancouver\",\n",
      "\n",
      "\t\t\t\t\"Departure Times\": [\n",
      "\n",
      "\t\t\t\t\t\"0930\",\n",
      "\n",
      "\t\t\t\t\t\"1412\"\n",
      "\n",
      "\t\t\t\t]\n",
      "\n",
      "\t\t\t},\n",
      "\n",
      "\t\t\t{\n",
      "\n",
      "\t\t\t\t\"Trip\": {\n",
      "\n",
      "\t\t\t\t\t\"Name\": \"Mountain Excursion\",\n",
      "\n",
      "\t\t\t\t\t\"Segments\": [{\n",
      "\n",
      "\t\t\t\t\t\t\t\"Ground\": \"Scenic Bus\",\n",
      "\n",
      "\t\t\t\t\t\t\t\"Destination City\": \"Banff\",\n",
      "\n",
      "\t\t\t\t\t\t\t\"Departure City\": \"Calgary\",\n",
      "\n",
      "\t\t\t\t\t\t\t\"Departure Times\": [\n",
      "\n",
      "\t\t\t\t\t\t\t\t\"0700\",\n",
      "\n",
      "\t\t\t\t\t\t\t\t\"0800\",\n",
      "\n",
      "\t\t\t\t\t\t\t\t\"0900\",\n",
      "\n",
      "\t\t\t\t\t\t\t\t\"1000\",\n",
      "\n",
      "\t\t\t\t\t\t\t\t\"1100\"\n",
      "\n",
      "\t\t\t\t\t\t\t]\n",
      "\n",
      "\n",
      "\n",
      "\t\t\t\t\t\t},\n",
      "\n",
      "\t\t\t\t\t\t{\n",
      "\n",
      "\t\t\t\t\t\t\t\"Ground\": \"Quick Train\",\n",
      "\n",
      "\t\t\t\t\t\t\t\"Departure City\": \"Calgary\",\n",
      "\n",
      "\t\t\t\t\t\t\t\"Destination City\": \"Banff\",\n",
      "\n",
      "\t\t\t\t\t\t\t\"Departure Times\": [\n",
      "\n",
      "\t\t\t\t\t\t\t\t\"1800\"\n",
      "\n",
      "\t\t\t\t\t\t\t]\n",
      "\n",
      "\t\t\t\t\t\t}\n",
      "\n",
      "\n",
      "\n",
      "\t\t\t\t\t]\n",
      "\n",
      "\t\t\t\t}\n",
      "\n",
      "\t\t\t}\n",
      "\n",
      "\t\t]\n",
      "\n",
      "\t}\n",
      "\n",
      "}\n"
     ]
    }
   ],
   "source": [
    "file = open(\"travel.json\", \"r+\")\n",
    "num_lines = file.readlines()\n",
    "\n",
    "for line in num_lines:\n",
    "    print(line)"
   ]
  },
  {
   "cell_type": "markdown",
   "metadata": {},
   "source": [
    "**Question 3 (2 marks)**\n",
    "\n",
    "Use the json library to read the contents of the file into a json object. Output the contents of this object."
   ]
  },
  {
   "cell_type": "code",
   "execution_count": 3,
   "metadata": {},
   "outputs": [
    {
     "name": "stdout",
     "output_type": "stream",
     "text": [
      "{'Trip': {'Name': 'Western Canadian Adventure', 'Segments': [{'Flight': 'Calgary to Vancouver', 'Departure Times': ['0731', '0845', '1030', '1332', '1519'], 'Airline': 'CheapFlights Air', 'Departure City': 'Calgary', 'Destination City': 'Vancouver'}, {'Hotel': 'Coastal Western', 'Room Type': ['Queen', 'King', 'Suite'], 'Rating': 4, 'City': 'Vancouver'}, {'Ground': 'East Train', 'Destination City': 'Calgary', 'Departure City': 'Vancouver', 'Departure Times': ['0930', '1412']}, {'Trip': {'Name': 'Mountain Excursion', 'Segments': [{'Ground': 'Scenic Bus', 'Destination City': 'Banff', 'Departure City': 'Calgary', 'Departure Times': ['0700', '0800', '0900', '1000', '1100']}, {'Ground': 'Quick Train', 'Departure City': 'Calgary', 'Destination City': 'Banff', 'Departure Times': ['1800']}]}}]}}\n"
     ]
    }
   ],
   "source": [
    "import json\n",
    "with open(\"travel.json\") as travel_json:\n",
    "    travel = json.load(travel_json) \n",
    "    print(travel)"
   ]
  },
  {
   "cell_type": "markdown",
   "metadata": {},
   "source": [
    "**Question 4 (5 marks)**\n",
    "\n",
    "Using the json library again, read the contents of the file into a json object, and wrangle the object however you please, using Python built-ins, or by running the results through json library methods a second time. List all names of Destination Cities in the provided file."
   ]
  },
  {
   "cell_type": "code",
   "execution_count": 4,
   "metadata": {},
   "outputs": [
    {
     "name": "stdout",
     "output_type": "stream",
     "text": [
      "Trip:  Mountain Excursion\n",
      "Destination Cities:  ['Banff', 'Banff']\n",
      "\n",
      "Trip:  Western Canadian Adventure\n",
      "Destination Cities:  ['Vancouver', 'Calgary']\n",
      "\n"
     ]
    }
   ],
   "source": [
    "with open(\"travel.json\") as travel_json:\n",
    "    travel = json.load(travel_json)\n",
    "    \n",
    "def destinations(d):\n",
    "    dest_list = []\n",
    "    for u in d[\"Trip\"][\"Segments\"]:\n",
    "        for k, v in u.items():\n",
    "            if \"Trip\" == k:\n",
    "                destinations(u)\n",
    "            else:\n",
    "                if \"Destination City\" in k:\n",
    "                    dest_list.append(v)\n",
    "    print(\"Trip: \", d[\"Trip\"][\"Name\"])\n",
    "    print(\"Destination Cities: \", dest_list)\n",
    "    print(\"\")\n",
    "\n",
    "destinations(travel)"
   ]
  },
  {
   "cell_type": "markdown",
   "metadata": {},
   "source": [
    "## Part B: Understanding our data (12 marks)"
   ]
  },
  {
   "cell_type": "markdown",
   "metadata": {},
   "source": [
    "**Question 1 (8 marks)**\n",
    "\n",
    "First, let's take a look at the contents of the JSON file you have been provided. Imagine that we will need a CSV for each element of the file which contains data. In the markdown cell below, identify what attributes each element should have."
   ]
  },
  {
   "cell_type": "markdown",
   "metadata": {},
   "source": [
    "**Trip**: name, flight_id (fk), ground_id (fk), hotel_id (fk)\n",
    "\n",
    "**Flight**: flight_id (pk), departure_id (fk), flight_name, airline, departure_city, destination_city \n",
    "\n",
    "**Ground** ground_id (pk),departure_id (fk), ground_name, departure_city, destination_city\n",
    "\n",
    "**Hotel**: hotel_id (pk), hotel_name, rating, city"
   ]
  },
  {
   "cell_type": "markdown",
   "metadata": {},
   "source": [
    "**Question 2 (1 mark)**\n",
    "\n",
    "Are there any elements that are missing from the list above?\n",
    "\n",
    "departure_times for Flights and Ground, and room_type for Hotels are lists, so these must be put into their own tables.\n",
    "\n",
    "__Departure time__: departure_id (pk), flight_id (fk), ground_id (fk), departure_time,  \n",
    "\n",
    "__Room type__: hotel_id (pk), room_type"
   ]
  },
  {
   "cell_type": "markdown",
   "metadata": {},
   "source": [
    "**Question 3 (3 marks)**\n",
    "\n",
    "Of the four elements identified at the start of Part B, which is the most difficult to read from our file, and why?\n",
    "\n",
    "**Trip**. Because there is one trip (Western Canadian Adventure.) on the outer layer, however there is a second trip (Mountain Excursion) nested within the outer trip. This makes it complicated to read since  Mountain Excursion is a trip, but within the segment of Western Canadian Adventure."
   ]
  },
  {
   "cell_type": "markdown",
   "metadata": {},
   "source": [
    "## Part C: Converting from JSON to CSV (13 marks)"
   ]
  },
  {
   "cell_type": "markdown",
   "metadata": {},
   "source": [
    "Write your own code, using Python built-ins, the csv and json modules, to convert the data in the provided file into appropriate CSVs for each of your identified elements from Part B, Question 1. You may add additional fields where necessary.\n",
    "\n",
    "Each row of each of your CSVs should contain sufficient information so that they could be used in another program independently of each other. For example, you may be able to write another program which could read your CSV file about flights to extract information about departure times and cities."
   ]
  },
  {
   "cell_type": "code",
   "execution_count": 5,
   "metadata": {},
   "outputs": [],
   "source": [
    "# Set up initial elements and attributes for later code\n",
    "import csv\n",
    "travel_dict = {\"Name\": [\"Western Canadian Adventure\", \"Mountain Excursion\", \"Mountain Excursion\"], \"Flight_ID\": [123, \"NA\", \"NA\"], \"Ground_ID\":[234, 235, 236], \"Hotel_ID\":[345, \"NA\", \"NA\"]}\n",
    "flight_dict = dict.fromkeys([\"Flight\", \"Airline\", \"Departure Times\", \"Departure City\", \"Destination City\"])\n",
    "ground_dict = dict.fromkeys([\"Ground\", \"Departure Times\", \"Departure City\", \"Destination City\"])\n",
    "hotel_dict = dict.fromkeys([\"Hotel\", \"Rating\", \"City\", \"Room Type\"])\n",
    "element_names = [\"Flight\", \"Ground\", \"Hotel\"]\n",
    "elements = [flight_dict, ground_dict, hotel_dict]\n",
    "\n",
    "\n",
    "for k, v in flight_dict.items():\n",
    "    flight_dict[k] = []\n",
    "\n",
    "for k, v in ground_dict.items():\n",
    "    ground_dict[k] = []  \n",
    "\n",
    "for k, v in hotel_dict.items():\n",
    "    hotel_dict[k] = []"
   ]
  },
  {
   "cell_type": "code",
   "execution_count": 6,
   "metadata": {},
   "outputs": [],
   "source": [
    "# Convert json to dictionary that can be turned into csv\n",
    "with open(\"travel.json\") as travel_json:\n",
    "    travel = json.load(travel_json)\n",
    "    \n",
    "def convert_to_dict(j):\n",
    "    for u in j[\"Trip\"][\"Segments\"]:\n",
    "        for k, v in u.items():\n",
    "            if \"Trip\" == k:\n",
    "                convert_to_dict(u)\n",
    "            elif list(u.keys())[0] in element_names:\n",
    "                elements[element_names.index(list(u.keys())[0])].setdefault(k,[]).append(v)\n",
    "convert_to_dict(travel)"
   ]
  },
  {
   "cell_type": "code",
   "execution_count": 7,
   "metadata": {},
   "outputs": [
    {
     "ename": "NameError",
     "evalue": "name 'travel_dict' is not defined",
     "output_type": "error",
     "traceback": [
      "\u001b[0;31m---------------------------------------------------------------------------\u001b[0m",
      "\u001b[0;31mNameError\u001b[0m                                 Traceback (most recent call last)",
      "Input \u001b[0;32mIn [7]\u001b[0m, in \u001b[0;36m<cell line: 2>\u001b[0;34m()\u001b[0m\n\u001b[1;32m      1\u001b[0m \u001b[38;5;66;03m# Add unique keys to Ground, Hotel and Flight tables so each observation can be tracked between tables\u001b[39;00m\n\u001b[0;32m----> 2\u001b[0m ground_dict[\u001b[38;5;124m\"\u001b[39m\u001b[38;5;124mGround_ID\u001b[39m\u001b[38;5;124m\"\u001b[39m] \u001b[38;5;241m=\u001b[39m \u001b[43mtravel_dict\u001b[49m[\u001b[38;5;124m\"\u001b[39m\u001b[38;5;124mGround_ID\u001b[39m\u001b[38;5;124m\"\u001b[39m]\n\u001b[1;32m      3\u001b[0m ground_dict[\u001b[38;5;124m\"\u001b[39m\u001b[38;5;124mDeparture_ID\u001b[39m\u001b[38;5;124m\"\u001b[39m] \u001b[38;5;241m=\u001b[39m [\u001b[38;5;241m567\u001b[39m, \u001b[38;5;241m568\u001b[39m, \u001b[38;5;241m569\u001b[39m]\n\u001b[1;32m      4\u001b[0m flight_dict[\u001b[38;5;124m\"\u001b[39m\u001b[38;5;124mFlight_ID\u001b[39m\u001b[38;5;124m\"\u001b[39m] \u001b[38;5;241m=\u001b[39m travel_dict[\u001b[38;5;124m\"\u001b[39m\u001b[38;5;124mFlight_ID\u001b[39m\u001b[38;5;124m\"\u001b[39m]\n",
      "\u001b[0;31mNameError\u001b[0m: name 'travel_dict' is not defined"
     ]
    }
   ],
   "source": [
    "# Add unique keys to Ground, Hotel and Flight tables so each observation can be tracked between tables\n",
    "ground_dict[\"Ground_ID\"] = travel_dict[\"Ground_ID\"]\n",
    "ground_dict[\"Departure_ID\"] = [567, 568, 569]\n",
    "flight_dict[\"Flight_ID\"] = travel_dict[\"Flight_ID\"]\n",
    "flight_dict[\"Departure_ID\"] = [570]\n",
    "hotel_dict[\"Hotel_ID\"] = travel_dict[\"Hotel_ID\"]"
   ]
  },
  {
   "cell_type": "code",
   "execution_count": null,
   "metadata": {},
   "outputs": [],
   "source": [
    "# Creating DepTime and RoomType tables mentioned in Part B Q2\n",
    "deptime_dict = {\"Departure_ID\":[], \"Ground_ID\":[], \"Flight_ID\":[], \"Departure Times\":[]}\n",
    "roomtype_dict = {\"Hotel_ID\":[], \"Room Type\":[]}\n",
    "\n",
    "for i, u in enumerate(ground_dict[\"Departure_ID\"]):\n",
    "    for u, z in enumerate(ground_dict[\"Departure Times\"][i]):\n",
    "        deptime_dict[\"Departure_ID\"].append(ground_dict[\"Departure_ID\"][i])\n",
    "        deptime_dict[\"Departure Times\"].append(ground_dict[\"Departure Times\"][i][u])\n",
    "        deptime_dict[\"Ground_ID\"].append(ground_dict[\"Ground_ID\"][i])\n",
    "        deptime_dict[\"Flight_ID\"].append(\"NA\")\n",
    "    \n",
    "for x, y in enumerate(flight_dict[\"Departure_ID\"]):\n",
    "    for u, z in enumerate(flight_dict[\"Departure Times\"][x]):\n",
    "        deptime_dict[\"Departure_ID\"].append(flight_dict[\"Departure_ID\"][x])\n",
    "        deptime_dict[\"Departure Times\"].append(flight_dict[\"Departure Times\"][x][u])\n",
    "        deptime_dict[\"Flight_ID\"].append(flight_dict[\"Flight_ID\"][x])\n",
    "        deptime_dict[\"Ground_ID\"].append(\"NA\")\n",
    "    \n",
    "for x,y in enumerate(hotel_dict[\"Room Type\"][0]):\n",
    "    roomtype_dict[\"Hotel_ID\"].append(hotel_dict[\"Hotel_ID\"][0])\n",
    "    roomtype_dict[\"Room Type\"].append(hotel_dict[\"Room Type\"][0][x])"
   ]
  },
  {
   "cell_type": "code",
   "execution_count": null,
   "metadata": {},
   "outputs": [],
   "source": [
    "# Remove Departure Times from  Ground and Flight tables and Room Type from Hotel table\n",
    "def remove_attr(d, key):\n",
    "    del d[key]\n",
    "remove_attr(ground_dict, \"Departure Times\")\n",
    "remove_attr(flight_dict, \"Departure Times\")\n",
    "remove_attr(hotel_dict, \"Room Type\")"
   ]
  },
  {
   "cell_type": "code",
   "execution_count": null,
   "metadata": {},
   "outputs": [],
   "source": [
    "# Convert dictionary to final csv\n",
    "def dict_to_csv(d, d_name):\n",
    "    with open(d_name+\".csv\", \"w\") as outfile:\n",
    "        writer = csv.writer(outfile)\n",
    "        writer.writerow(d.keys())\n",
    "        writer.writerows(zip(*d.values()))\n",
    "\n",
    "# Final CSVs   \n",
    "dict_to_csv(trip_dict, \"Trip\")\n",
    "dict_to_csv(ground_dict, \"Ground\")\n",
    "dict_to_csv(flight_dict, \"Flight\")\n",
    "dict_to_csv(hotel_dict, \"Hotel\")\n",
    "dict_to_csv(deptime_dict, \"DepTime\")\n",
    "dict_to_csv(roomtype_dict, \"RoomType\")"
   ]
  },
  {
   "cell_type": "markdown",
   "metadata": {},
   "source": [
    "## Part D: Reflection (5 marks)\n",
    "\n",
    "In 100 to 250 words, identify a concept you have found difficult or confusing from this assignment. Reflect on how your previous learning or experience helped you to understand this concept. Provide your reflection using markdown in the cell below. "
   ]
  },
  {
   "cell_type": "markdown",
   "metadata": {},
   "source": [
    "**Reflection:** The most difficult concept for me in this assignment was recursion. Because I noticed that there was a Trip nested within another Trip, I thought recursion would be the best approach to create a function that is general and could be used for a json file with even deeper nested Trips. In 601, I used recursion to create a function that creates all possible integer coordinates of a (n,d) grid. This experience allowed me to extrapolate the idea of recursion to the problem for this assignment. However, smoothing out the specifics of the function took some time for me."
   ]
  },
  {
   "cell_type": "code",
   "execution_count": null,
   "metadata": {},
   "outputs": [],
   "source": []
  }
 ],
 "metadata": {
  "kernelspec": {
   "display_name": "Python 3 (ipykernel)",
   "language": "python",
   "name": "python3"
  },
  "language_info": {
   "codemirror_mode": {
    "name": "ipython",
    "version": 3
   },
   "file_extension": ".py",
   "mimetype": "text/x-python",
   "name": "python",
   "nbconvert_exporter": "python",
   "pygments_lexer": "ipython3",
   "version": "3.10.5"
  }
 },
 "nbformat": 4,
 "nbformat_minor": 4
}
